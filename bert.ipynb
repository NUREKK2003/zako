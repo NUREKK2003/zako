{
 "cells": [
  {
   "cell_type": "code",
   "execution_count": 2,
   "metadata": {},
   "outputs": [],
   "source": [
    "import pandas as pd\n",
    "df = pd.read_csv('data/reddit.csv',sep=';')"
   ]
  },
  {
   "cell_type": "code",
   "execution_count": 3,
   "metadata": {},
   "outputs": [
    {
     "name": "stderr",
     "output_type": "stream",
     "text": [
      "No model was supplied, defaulted to distilbert/distilbert-base-uncased-finetuned-sst-2-english and revision 714eb0f (https://huggingface.co/distilbert/distilbert-base-uncased-finetuned-sst-2-english).\n",
      "Using a pipeline without specifying a model name and revision in production is not recommended.\n",
      "Device set to use cpu\n"
     ]
    },
    {
     "name": "stdout",
     "output_type": "stream",
     "text": [
      "All Layover Questions - READ THIS NOTICE\n",
      "[{'label': 'NEGATIVE', 'score': 0.9919107556343079}]\n",
      "Reminder: any use of ChatGPT or AI tools will result in a ban\n",
      "[{'label': 'NEGATIVE', 'score': 0.9996883869171143}]\n",
      "How is it to visit inside a pyramid?\n",
      "[{'label': 'NEGATIVE', 'score': 0.9917935729026794}]\n",
      "Is there a thing called extended leg rest for the airplane?\n",
      "[{'label': 'NEGATIVE', 'score': 0.9982415437698364}]\n",
      "Tenerife, Canary Islands, Spain\n",
      "[{'label': 'POSITIVE', 'score': 0.9908145070075989}]\n",
      "Is Thunder Bay really that bad!?\n",
      "[{'label': 'NEGATIVE', 'score': 0.9997538924217224}]\n",
      "Is Barcelona still a good place to visit?\n",
      "[{'label': 'POSITIVE', 'score': 0.8880767822265625}]\n",
      "18 day Italy trip\n",
      "[{'label': 'POSITIVE', 'score': 0.9972867965698242}]\n",
      "Philadelphia Airport\n",
      "[{'label': 'POSITIVE', 'score': 0.9972667694091797}]\n",
      "Any 4 week travel suggestions?\n",
      "[{'label': 'NEGATIVE', 'score': 0.9914845824241638}]\n"
     ]
    }
   ],
   "source": [
    "from transformers import pipeline\n",
    "\n",
    "classifier = pipeline(\"sentiment-analysis\")\n",
    "\n",
    "for row in df.itertuples(index=False):\n",
    "    print(row.title)\n",
    "    text = row.title\n",
    "    result = classifier(text)\n",
    "    print(result)\n"
   ]
  },
  {
   "cell_type": "code",
   "execution_count": 4,
   "metadata": {},
   "outputs": [
    {
     "data": {
      "text/plain": [
       "Index(['Unnamed: 0', 'url', 'title', 'selftext', 'created_utc'], dtype='object')"
      ]
     },
     "execution_count": 4,
     "metadata": {},
     "output_type": "execute_result"
    }
   ],
   "source": [
    "df.columns"
   ]
  },
  {
   "cell_type": "code",
   "execution_count": 5,
   "metadata": {},
   "outputs": [
    {
     "name": "stdout",
     "output_type": "stream",
     "text": [
      "Predicted Sentiment Class: 4\n"
     ]
    }
   ],
   "source": [
    "from transformers import BertTokenizer, BertForSequenceClassification\n",
    "import torch\n",
    "\n",
    "model_name = \"nlptown/bert-base-multilingual-uncased-sentiment\"\n",
    "tokenizer = BertTokenizer.from_pretrained(model_name)\n",
    "model = BertForSequenceClassification.from_pretrained(model_name)\n",
    "\n",
    "text = \"This is an amazing place!\"\n",
    "inputs = tokenizer(text,return_tensors=\"pt\")\n",
    "\n",
    "with torch.no_grad():\n",
    "    logits = model(**inputs).logits\n",
    "    \n",
    "predicted_class = torch.argmax(logits).item()\n",
    "print(f\"Predicted Sentiment Class: {predicted_class}\")\n"
   ]
  },
  {
   "cell_type": "markdown",
   "metadata": {},
   "source": [
    "# For read\n",
    "Attention Is All You Need\n",
    "https://arxiv.org/abs/1706.03762\n",
    "WELL-READ STUDENTS LEARN BETTER: ON THE IMPORTANCE OF PRE-TRAINING COMPACT MODELS\n",
    "https://arxiv.org/abs/1908.08962\n",
    "BERT: Pre-training of Deep Bidirectional Transformers for Language Understanding\n",
    "https://arxiv.org/abs/1810.04805"
   ]
  }
 ],
 "metadata": {
  "kernelspec": {
   "display_name": ".venv",
   "language": "python",
   "name": "python3"
  },
  "language_info": {
   "codemirror_mode": {
    "name": "ipython",
    "version": 3
   },
   "file_extension": ".py",
   "mimetype": "text/x-python",
   "name": "python",
   "nbconvert_exporter": "python",
   "pygments_lexer": "ipython3",
   "version": "3.10.12"
  }
 },
 "nbformat": 4,
 "nbformat_minor": 2
}
